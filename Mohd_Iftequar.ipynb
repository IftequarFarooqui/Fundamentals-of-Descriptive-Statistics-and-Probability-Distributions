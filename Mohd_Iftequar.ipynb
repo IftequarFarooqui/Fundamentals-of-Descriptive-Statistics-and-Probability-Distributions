{
  "cells": [
    {
      "cell_type": "code",
      "execution_count": 1,
      "metadata": {
        "colab": {
          "base_uri": "https://localhost:8080/",
          "height": 206
        },
        "id": "8HtxzCCNBJkK",
        "outputId": "717d3255-c150-4306-e3df-b47f6f964286"
      },
      "outputs": [
        {
          "data": {
            "text/html": [
              "<div>\n",
              "<style scoped>\n",
              "    .dataframe tbody tr th:only-of-type {\n",
              "        vertical-align: middle;\n",
              "    }\n",
              "\n",
              "    .dataframe tbody tr th {\n",
              "        vertical-align: top;\n",
              "    }\n",
              "\n",
              "    .dataframe thead th {\n",
              "        text-align: right;\n",
              "    }\n",
              "</style>\n",
              "<table border=\"1\" class=\"dataframe\">\n",
              "  <thead>\n",
              "    <tr style=\"text-align: right;\">\n",
              "      <th></th>\n",
              "      <th>jobTitle</th>\n",
              "      <th>gender</th>\n",
              "      <th>age</th>\n",
              "      <th>perfEval</th>\n",
              "      <th>edu</th>\n",
              "      <th>dept</th>\n",
              "      <th>seniority</th>\n",
              "      <th>basePay</th>\n",
              "      <th>bonus</th>\n",
              "    </tr>\n",
              "  </thead>\n",
              "  <tbody>\n",
              "    <tr>\n",
              "      <th>0</th>\n",
              "      <td>Graphic Designer</td>\n",
              "      <td>Female</td>\n",
              "      <td>18</td>\n",
              "      <td>5</td>\n",
              "      <td>College</td>\n",
              "      <td>Operations</td>\n",
              "      <td>2</td>\n",
              "      <td>42363</td>\n",
              "      <td>9938</td>\n",
              "    </tr>\n",
              "    <tr>\n",
              "      <th>1</th>\n",
              "      <td>Software Engineer</td>\n",
              "      <td>Male</td>\n",
              "      <td>21</td>\n",
              "      <td>5</td>\n",
              "      <td>College</td>\n",
              "      <td>Management</td>\n",
              "      <td>5</td>\n",
              "      <td>108476</td>\n",
              "      <td>11128</td>\n",
              "    </tr>\n",
              "    <tr>\n",
              "      <th>2</th>\n",
              "      <td>Warehouse Associate</td>\n",
              "      <td>Female</td>\n",
              "      <td>19</td>\n",
              "      <td>4</td>\n",
              "      <td>PhD</td>\n",
              "      <td>Administration</td>\n",
              "      <td>5</td>\n",
              "      <td>90208</td>\n",
              "      <td>9268</td>\n",
              "    </tr>\n",
              "    <tr>\n",
              "      <th>3</th>\n",
              "      <td>Software Engineer</td>\n",
              "      <td>Male</td>\n",
              "      <td>20</td>\n",
              "      <td>5</td>\n",
              "      <td>Masters</td>\n",
              "      <td>Sales</td>\n",
              "      <td>4</td>\n",
              "      <td>108080</td>\n",
              "      <td>10154</td>\n",
              "    </tr>\n",
              "    <tr>\n",
              "      <th>4</th>\n",
              "      <td>Graphic Designer</td>\n",
              "      <td>Male</td>\n",
              "      <td>26</td>\n",
              "      <td>5</td>\n",
              "      <td>Masters</td>\n",
              "      <td>Engineering</td>\n",
              "      <td>5</td>\n",
              "      <td>99464</td>\n",
              "      <td>9319</td>\n",
              "    </tr>\n",
              "  </tbody>\n",
              "</table>\n",
              "</div>"
            ],
            "text/plain": [
              "              jobTitle  gender  age  perfEval      edu            dept  \\\n",
              "0     Graphic Designer  Female   18         5  College      Operations   \n",
              "1    Software Engineer    Male   21         5  College      Management   \n",
              "2  Warehouse Associate  Female   19         4      PhD  Administration   \n",
              "3    Software Engineer    Male   20         5  Masters           Sales   \n",
              "4     Graphic Designer    Male   26         5  Masters     Engineering   \n",
              "\n",
              "   seniority  basePay  bonus  \n",
              "0          2    42363   9938  \n",
              "1          5   108476  11128  \n",
              "2          5    90208   9268  \n",
              "3          4   108080  10154  \n",
              "4          5    99464   9319  "
            ]
          },
          "execution_count": 1,
          "metadata": {},
          "output_type": "execute_result"
        }
      ],
      "source": [
        "import pandas as pd\n",
        "dt = pd.read_csv('data.csv')\n",
        "dt.head()\n"
      ]
    },
    {
      "cell_type": "code",
      "execution_count": 2,
      "metadata": {
        "colab": {
          "base_uri": "https://localhost:8080/",
          "height": 617
        },
        "id": "dgY_gkjA3sbN",
        "outputId": "35935389-712c-499a-8db2-a56bf060223e"
      },
      "outputs": [
        {
          "data": {
            "text/html": [
              "<div>\n",
              "<style scoped>\n",
              "    .dataframe tbody tr th:only-of-type {\n",
              "        vertical-align: middle;\n",
              "    }\n",
              "\n",
              "    .dataframe tbody tr th {\n",
              "        vertical-align: top;\n",
              "    }\n",
              "\n",
              "    .dataframe thead th {\n",
              "        text-align: right;\n",
              "    }\n",
              "</style>\n",
              "<table border=\"1\" class=\"dataframe\">\n",
              "  <thead>\n",
              "    <tr style=\"text-align: right;\">\n",
              "      <th></th>\n",
              "      <th>jobTitle</th>\n",
              "      <th>gender</th>\n",
              "      <th>age</th>\n",
              "      <th>perfEval</th>\n",
              "      <th>edu</th>\n",
              "      <th>dept</th>\n",
              "      <th>seniority</th>\n",
              "      <th>basePay</th>\n",
              "      <th>bonus</th>\n",
              "    </tr>\n",
              "  </thead>\n",
              "  <tbody>\n",
              "    <tr>\n",
              "      <th>0</th>\n",
              "      <td>Graphic Designer</td>\n",
              "      <td>Female</td>\n",
              "      <td>18</td>\n",
              "      <td>5</td>\n",
              "      <td>College</td>\n",
              "      <td>Operations</td>\n",
              "      <td>2</td>\n",
              "      <td>42363</td>\n",
              "      <td>9938</td>\n",
              "    </tr>\n",
              "    <tr>\n",
              "      <th>1</th>\n",
              "      <td>Software Engineer</td>\n",
              "      <td>Male</td>\n",
              "      <td>21</td>\n",
              "      <td>5</td>\n",
              "      <td>College</td>\n",
              "      <td>Management</td>\n",
              "      <td>5</td>\n",
              "      <td>108476</td>\n",
              "      <td>11128</td>\n",
              "    </tr>\n",
              "    <tr>\n",
              "      <th>2</th>\n",
              "      <td>Warehouse Associate</td>\n",
              "      <td>Female</td>\n",
              "      <td>19</td>\n",
              "      <td>4</td>\n",
              "      <td>PhD</td>\n",
              "      <td>Administration</td>\n",
              "      <td>5</td>\n",
              "      <td>90208</td>\n",
              "      <td>9268</td>\n",
              "    </tr>\n",
              "    <tr>\n",
              "      <th>3</th>\n",
              "      <td>Software Engineer</td>\n",
              "      <td>Male</td>\n",
              "      <td>20</td>\n",
              "      <td>5</td>\n",
              "      <td>Masters</td>\n",
              "      <td>Sales</td>\n",
              "      <td>4</td>\n",
              "      <td>108080</td>\n",
              "      <td>10154</td>\n",
              "    </tr>\n",
              "    <tr>\n",
              "      <th>4</th>\n",
              "      <td>Graphic Designer</td>\n",
              "      <td>Male</td>\n",
              "      <td>26</td>\n",
              "      <td>5</td>\n",
              "      <td>Masters</td>\n",
              "      <td>Engineering</td>\n",
              "      <td>5</td>\n",
              "      <td>99464</td>\n",
              "      <td>9319</td>\n",
              "    </tr>\n",
              "    <tr>\n",
              "      <th>...</th>\n",
              "      <td>...</td>\n",
              "      <td>...</td>\n",
              "      <td>...</td>\n",
              "      <td>...</td>\n",
              "      <td>...</td>\n",
              "      <td>...</td>\n",
              "      <td>...</td>\n",
              "      <td>...</td>\n",
              "      <td>...</td>\n",
              "    </tr>\n",
              "    <tr>\n",
              "      <th>995</th>\n",
              "      <td>Marketing Associate</td>\n",
              "      <td>Female</td>\n",
              "      <td>61</td>\n",
              "      <td>1</td>\n",
              "      <td>High School</td>\n",
              "      <td>Administration</td>\n",
              "      <td>1</td>\n",
              "      <td>62644</td>\n",
              "      <td>3270</td>\n",
              "    </tr>\n",
              "    <tr>\n",
              "      <th>996</th>\n",
              "      <td>Data Scientist</td>\n",
              "      <td>Male</td>\n",
              "      <td>57</td>\n",
              "      <td>1</td>\n",
              "      <td>Masters</td>\n",
              "      <td>Sales</td>\n",
              "      <td>2</td>\n",
              "      <td>108977</td>\n",
              "      <td>3567</td>\n",
              "    </tr>\n",
              "    <tr>\n",
              "      <th>997</th>\n",
              "      <td>Financial Analyst</td>\n",
              "      <td>Male</td>\n",
              "      <td>48</td>\n",
              "      <td>1</td>\n",
              "      <td>High School</td>\n",
              "      <td>Operations</td>\n",
              "      <td>1</td>\n",
              "      <td>92347</td>\n",
              "      <td>2724</td>\n",
              "    </tr>\n",
              "    <tr>\n",
              "      <th>998</th>\n",
              "      <td>Financial Analyst</td>\n",
              "      <td>Male</td>\n",
              "      <td>65</td>\n",
              "      <td>2</td>\n",
              "      <td>High School</td>\n",
              "      <td>Administration</td>\n",
              "      <td>1</td>\n",
              "      <td>97376</td>\n",
              "      <td>2225</td>\n",
              "    </tr>\n",
              "    <tr>\n",
              "      <th>999</th>\n",
              "      <td>Financial Analyst</td>\n",
              "      <td>Male</td>\n",
              "      <td>60</td>\n",
              "      <td>1</td>\n",
              "      <td>PhD</td>\n",
              "      <td>Sales</td>\n",
              "      <td>2</td>\n",
              "      <td>123108</td>\n",
              "      <td>2244</td>\n",
              "    </tr>\n",
              "  </tbody>\n",
              "</table>\n",
              "<p>1000 rows × 9 columns</p>\n",
              "</div>"
            ],
            "text/plain": [
              "                jobTitle  gender  age  perfEval          edu            dept  \\\n",
              "0       Graphic Designer  Female   18         5      College      Operations   \n",
              "1      Software Engineer    Male   21         5      College      Management   \n",
              "2    Warehouse Associate  Female   19         4          PhD  Administration   \n",
              "3      Software Engineer    Male   20         5      Masters           Sales   \n",
              "4       Graphic Designer    Male   26         5      Masters     Engineering   \n",
              "..                   ...     ...  ...       ...          ...             ...   \n",
              "995  Marketing Associate  Female   61         1  High School  Administration   \n",
              "996       Data Scientist    Male   57         1      Masters           Sales   \n",
              "997    Financial Analyst    Male   48         1  High School      Operations   \n",
              "998    Financial Analyst    Male   65         2  High School  Administration   \n",
              "999    Financial Analyst    Male   60         1          PhD           Sales   \n",
              "\n",
              "     seniority  basePay  bonus  \n",
              "0            2    42363   9938  \n",
              "1            5   108476  11128  \n",
              "2            5    90208   9268  \n",
              "3            4   108080  10154  \n",
              "4            5    99464   9319  \n",
              "..         ...      ...    ...  \n",
              "995          1    62644   3270  \n",
              "996          2   108977   3567  \n",
              "997          1    92347   2724  \n",
              "998          1    97376   2225  \n",
              "999          2   123108   2244  \n",
              "\n",
              "[1000 rows x 9 columns]"
            ]
          },
          "execution_count": 2,
          "metadata": {},
          "output_type": "execute_result"
        }
      ],
      "source": [
        "dt"
      ]
    },
    {
      "cell_type": "code",
      "execution_count": null,
      "metadata": {
        "id": "jGzrJrMW3sbT"
      },
      "outputs": [],
      "source": []
    },
    {
      "cell_type": "markdown",
      "metadata": {
        "id": "mmQkZcz0U0oG"
      },
      "source": [
        "**Measures of Central Tendency**"
      ]
    },
    {
      "cell_type": "code",
      "execution_count": 3,
      "metadata": {
        "colab": {
          "base_uri": "https://localhost:8080/"
        },
        "id": "xmZqjE9WW7qp",
        "outputId": "7ea11d9a-fd81-45ca-82de-df8463a36b19"
      },
      "outputs": [
        {
          "name": "stdout",
          "output_type": "stream",
          "text": [
            "The Overall Mean of Performance Evaluation of File \"data.csv\" = 3.037\n"
          ]
        }
      ],
      "source": [
        "# Mean of Overall Perfomance Evaluation Without using Inbuild Functions\n",
        "dt = pd.read_csv('data.csv')\n",
        "perf = dt['perfEval']\n",
        "def add(column):\n",
        "    res = 0\n",
        "    for item in column:\n",
        "        res = res + item\n",
        "    return res\n",
        "\n",
        "def lenght(column):\n",
        "    l = 0\n",
        "    for _ in column:\n",
        "        l += 1\n",
        "    return l\n",
        "\n",
        "def mean(column):\n",
        "    return(add(column)/lenght(column))\n",
        "\n",
        "print(f'The Overall Mean of Performance Evaluation of File \"data.csv\" = {mean(perf)}')"
      ]
    },
    {
      "cell_type": "code",
      "execution_count": 4,
      "metadata": {
        "id": "f-SnrMRBxUtc"
      },
      "outputs": [],
      "source": [
        "# Data of Particualr feild"
      ]
    },
    {
      "cell_type": "code",
      "execution_count": 5,
      "metadata": {
        "colab": {
          "base_uri": "https://localhost:8080/"
        },
        "id": "ImounXEQYdgT",
        "outputId": "a74209f2-95ec-48b7-9c69-21ccebf1fde5"
      },
      "outputs": [
        {
          "name": "stdout",
          "output_type": "stream",
          "text": [
            "The Overall Mean of Performance Evaluation of File \"data.csv\" = 3.037\n"
          ]
        }
      ],
      "source": [
        "# Mean of Overall Perfomance Evaluation With using Inbuild Functions sum() and len().\n",
        "perf = dt['perfEval']\n",
        "\n",
        "meanVal = sum(perf)/len(perf)\n",
        "print(f'The Overall Mean of Performance Evaluation of File \"data.csv\" = {meanVal}')\n"
      ]
    },
    {
      "cell_type": "code",
      "execution_count": 6,
      "metadata": {
        "colab": {
          "base_uri": "https://localhost:8080/"
        },
        "id": "a0yY6wCtwEcE",
        "outputId": "078eaebc-e963-417e-c773-da68c00c1501"
      },
      "outputs": [
        {
          "data": {
            "text/plain": [
              "3.037"
            ]
          },
          "execution_count": 6,
          "metadata": {},
          "output_type": "execute_result"
        }
      ],
      "source": [
        "# Mean of Overall Perfomance Evaluation With using Inbuild method mean() from pandas.\n",
        "perf.mean()"
      ]
    },
    {
      "cell_type": "code",
      "execution_count": 7,
      "metadata": {
        "colab": {
          "base_uri": "https://localhost:8080/"
        },
        "id": "zgVGuvVsyiF2",
        "outputId": "1c58ce2a-f19b-463a-872d-f9e9a2872b4e"
      },
      "outputs": [
        {
          "name": "stdout",
          "output_type": "stream",
          "text": [
            "Mean of Financial Analyst = 3.2710280373831777\n",
            "Mean of Warehouse Associate = 3.2444444444444445\n",
            "Mean of Software Engineer = 3.128440366972477\n",
            "Mean of Sales Associate = 2.797872340425532\n",
            "Mean of Driver = 3.065934065934066\n",
            "Mean of Data Scientist = 2.97196261682243\n",
            "Mean of Manager = 2.7\n",
            "Mean of Graphic Designer = 3.122448979591837\n",
            "Mean of Marketing Associate = 2.9237288135593222\n",
            "Mean of IT = 3.125\n"
          ]
        }
      ],
      "source": [
        "# Calculate Mean of Each Feild Separately\n",
        "job_titles = list(set(dt['jobTitle']))\n",
        "for job_title in job_titles:\n",
        "  vals = dt[dt['jobTitle'] == job_title]['perfEval']\n",
        "  mean_val = sum(vals)/len(vals)\n",
        "  print(f'Mean of {job_title} = {mean_val}')"
      ]
    },
    {
      "cell_type": "code",
      "execution_count": 8,
      "metadata": {
        "colab": {
          "base_uri": "https://localhost:8080/"
        },
        "id": "3AfH5wbiCoxy",
        "outputId": "c1da5bc6-cd50-4ef2-8809-6d8a5e278551"
      },
      "outputs": [
        {
          "data": {
            "text/plain": [
              "3.0"
            ]
          },
          "execution_count": 8,
          "metadata": {},
          "output_type": "execute_result"
        }
      ],
      "source": [
        "# median for particular column\n",
        "perf = dt['perfEval']\n",
        "def median(column):\n",
        "  sorted_column = sorted(column)\n",
        "  mid_val_index = len(column)//2\n",
        "  if((len(column))%2 == 0):\n",
        "    median_val = (sorted_column[mid_val_index - 1] + sorted_column[mid_val_index])/2\n",
        "    return median_val\n",
        "  return sorted_column[mid_val_index]\n",
        "\n",
        "median(perf)"
      ]
    },
    {
      "cell_type": "code",
      "execution_count": 9,
      "metadata": {
        "colab": {
          "base_uri": "https://localhost:8080/"
        },
        "id": "NS3HESsurhsS",
        "outputId": "b1d2bda9-e426-4b16-f8a8-e0d1d5175648"
      },
      "outputs": [
        {
          "data": {
            "text/plain": [
              "3.0"
            ]
          },
          "execution_count": 9,
          "metadata": {},
          "output_type": "execute_result"
        }
      ],
      "source": [
        "# Calculate Median by Using Inbuild Fuction\n",
        "perf.median()"
      ]
    },
    {
      "cell_type": "code",
      "execution_count": 12,
      "metadata": {
        "colab": {
          "base_uri": "https://localhost:8080/"
        },
        "id": "pTeYwz-BWok2",
        "outputId": "e8eefa44-af73-4b6b-fdf7-c1203de076a2"
      },
      "outputs": [
        {
          "name": "stdout",
          "output_type": "stream",
          "text": [
            "Median of Financial Analyst = 4\n",
            "Median of Warehouse Associate = 3.0\n",
            "Median of Software Engineer = 3\n",
            "Median of Sales Associate = 3.0\n",
            "Median of Driver = 3\n",
            "Median of Data Scientist = 3\n",
            "Median of Manager = 3.0\n",
            "Median of Graphic Designer = 3.0\n",
            "Median of Marketing Associate = 3.0\n",
            "Median of IT = 3.0\n"
          ]
        }
      ],
      "source": [
        "# Calculate Median of Each Feild Separately\n",
        "job_titles = list(set(dt['jobTitle']))\n",
        "for job_title in job_titles:\n",
        "  vals = dt[dt['jobTitle'] == job_title]['perfEval']\n",
        "  print(f'Median of {job_title} = {median(vals)}')\n"
      ]
    },
    {
      "cell_type": "code",
      "execution_count": null,
      "metadata": {
        "colab": {
          "base_uri": "https://localhost:8080/"
        },
        "id": "TSjoiMj5IoVL",
        "outputId": "03d8b82d-930f-4af4-adb4-8156beb2d95c"
      },
      "outputs": [
        {
          "name": "stdout",
          "output_type": "stream",
          "text": [
            "[5]\n"
          ]
        }
      ],
      "source": [
        "# Mode in a Column\n",
        "perf = df['perfEval']\n",
        "def mode(values):\n",
        "  counts = {}\n",
        "  for s in values:\n",
        "    if(s in counts):\n",
        "      counts[s] = counts[s] + 1\n",
        "    else:\n",
        "      counts[s] = 1\n",
        "  max_count = max(counts.values())\n",
        "  modes = [v for v in set(values) if counts[v] == max_count]\n",
        "  return modes\n",
        "print(mode(perf))"
      ]
    },
    {
      "cell_type": "code",
      "execution_count": null,
      "metadata": {
        "colab": {
          "base_uri": "https://localhost:8080/"
        },
        "id": "2S-JoEeVNobp",
        "outputId": "72fcfd1c-650c-4a05-f3e1-8f2ef892cd2e"
      },
      "outputs": [
        {
          "data": {
            "text/plain": [
              "0    5\n",
              "Name: perfEval, dtype: int64"
            ]
          },
          "execution_count": 16,
          "metadata": {},
          "output_type": "execute_result"
        }
      ],
      "source": [
        "# Calculate Mode by In-built Function\n",
        "perf.mode()"
      ]
    },
    {
      "cell_type": "code",
      "execution_count": null,
      "metadata": {
        "colab": {
          "base_uri": "https://localhost:8080/"
        },
        "id": "-LTUopAZN4kH",
        "outputId": "40520ed8-5c74-4e15-a3b4-0a7ca5a2472f"
      },
      "outputs": [
        {
          "name": "stdout",
          "output_type": "stream",
          "text": [
            "Mode of Marketing Associate = [1, 3]\n",
            "Mode of Data Scientist = [3]\n",
            "Mode of Warehouse Associate = [5]\n",
            "Mode of Graphic Designer = [4, 5]\n",
            "Mode of IT = [5]\n",
            "Mode of Financial Analyst = [4]\n",
            "Mode of Sales Associate = [2]\n",
            "Mode of Manager = [4]\n",
            "Mode of Driver = [4]\n",
            "Mode of Software Engineer = [5]\n"
          ]
        }
      ],
      "source": [
        "# Calculate Mode of Each Feild Separately\n",
        "job_titles = list(set(df['jobTitle']))\n",
        "for job_title in job_titles:\n",
        "  vals = df[df['jobTitle'] == job_title]['perfEval']\n",
        "  print(f'Mode of {job_title} = {mode(vals)}')"
      ]
    },
    {
      "cell_type": "markdown",
      "metadata": {
        "id": "DAlQ5L4pVYpG"
      },
      "source": [
        "**Measure of Spread/Dispersion**"
      ]
    },
    {
      "cell_type": "code",
      "execution_count": null,
      "metadata": {
        "colab": {
          "base_uri": "https://localhost:8080/"
        },
        "id": "4AiM1Q_9UuEP",
        "outputId": "4006265d-5e20-48fc-f017-fa9c930ac58e"
      },
      "outputs": [
        {
          "data": {
            "text/html": [
              "<div>\n",
              "<style scoped>\n",
              "    .dataframe tbody tr th:only-of-type {\n",
              "        vertical-align: middle;\n",
              "    }\n",
              "\n",
              "    .dataframe tbody tr th {\n",
              "        vertical-align: top;\n",
              "    }\n",
              "\n",
              "    .dataframe thead th {\n",
              "        text-align: right;\n",
              "    }\n",
              "</style>\n",
              "<table border=\"1\" class=\"dataframe\">\n",
              "  <thead>\n",
              "    <tr style=\"text-align: right;\">\n",
              "      <th></th>\n",
              "      <th>Employee_Name</th>\n",
              "      <th>EmpID</th>\n",
              "      <th>MarriedID</th>\n",
              "      <th>MaritalStatusID</th>\n",
              "      <th>GenderID</th>\n",
              "      <th>EmpStatusID</th>\n",
              "      <th>DeptID</th>\n",
              "      <th>PerfScoreID</th>\n",
              "      <th>FromDiversityJobFairID</th>\n",
              "      <th>Salary</th>\n",
              "      <th>...</th>\n",
              "      <th>ManagerName</th>\n",
              "      <th>ManagerID</th>\n",
              "      <th>RecruitmentSource</th>\n",
              "      <th>PerformanceScore</th>\n",
              "      <th>EngagementSurvey</th>\n",
              "      <th>EmpSatisfaction</th>\n",
              "      <th>SpecialProjectsCount</th>\n",
              "      <th>LastPerformanceReview_Date</th>\n",
              "      <th>DaysLateLast30</th>\n",
              "      <th>Absences</th>\n",
              "    </tr>\n",
              "  </thead>\n",
              "  <tbody>\n",
              "    <tr>\n",
              "      <th>0</th>\n",
              "      <td>Adinolfi, Wilson  K</td>\n",
              "      <td>10026</td>\n",
              "      <td>0</td>\n",
              "      <td>0</td>\n",
              "      <td>1</td>\n",
              "      <td>1</td>\n",
              "      <td>5</td>\n",
              "      <td>4</td>\n",
              "      <td>0</td>\n",
              "      <td>62506</td>\n",
              "      <td>...</td>\n",
              "      <td>Michael Albert</td>\n",
              "      <td>22.0</td>\n",
              "      <td>LinkedIn</td>\n",
              "      <td>Exceeds</td>\n",
              "      <td>4.60</td>\n",
              "      <td>5</td>\n",
              "      <td>0</td>\n",
              "      <td>1/17/2019</td>\n",
              "      <td>0</td>\n",
              "      <td>1</td>\n",
              "    </tr>\n",
              "    <tr>\n",
              "      <th>1</th>\n",
              "      <td>Ait Sidi, Karthikeyan</td>\n",
              "      <td>10084</td>\n",
              "      <td>1</td>\n",
              "      <td>1</td>\n",
              "      <td>1</td>\n",
              "      <td>5</td>\n",
              "      <td>3</td>\n",
              "      <td>3</td>\n",
              "      <td>0</td>\n",
              "      <td>104437</td>\n",
              "      <td>...</td>\n",
              "      <td>Simon Roup</td>\n",
              "      <td>4.0</td>\n",
              "      <td>Indeed</td>\n",
              "      <td>Fully Meets</td>\n",
              "      <td>4.96</td>\n",
              "      <td>3</td>\n",
              "      <td>6</td>\n",
              "      <td>2/24/2016</td>\n",
              "      <td>0</td>\n",
              "      <td>17</td>\n",
              "    </tr>\n",
              "    <tr>\n",
              "      <th>2</th>\n",
              "      <td>Akinkuolie, Sarah</td>\n",
              "      <td>10196</td>\n",
              "      <td>1</td>\n",
              "      <td>1</td>\n",
              "      <td>0</td>\n",
              "      <td>5</td>\n",
              "      <td>5</td>\n",
              "      <td>3</td>\n",
              "      <td>0</td>\n",
              "      <td>64955</td>\n",
              "      <td>...</td>\n",
              "      <td>Kissy Sullivan</td>\n",
              "      <td>20.0</td>\n",
              "      <td>LinkedIn</td>\n",
              "      <td>Fully Meets</td>\n",
              "      <td>3.02</td>\n",
              "      <td>3</td>\n",
              "      <td>0</td>\n",
              "      <td>5/15/2012</td>\n",
              "      <td>0</td>\n",
              "      <td>3</td>\n",
              "    </tr>\n",
              "    <tr>\n",
              "      <th>3</th>\n",
              "      <td>Alagbe,Trina</td>\n",
              "      <td>10088</td>\n",
              "      <td>1</td>\n",
              "      <td>1</td>\n",
              "      <td>0</td>\n",
              "      <td>1</td>\n",
              "      <td>5</td>\n",
              "      <td>3</td>\n",
              "      <td>0</td>\n",
              "      <td>64991</td>\n",
              "      <td>...</td>\n",
              "      <td>Elijiah Gray</td>\n",
              "      <td>16.0</td>\n",
              "      <td>Indeed</td>\n",
              "      <td>Fully Meets</td>\n",
              "      <td>4.84</td>\n",
              "      <td>5</td>\n",
              "      <td>0</td>\n",
              "      <td>1/3/2019</td>\n",
              "      <td>0</td>\n",
              "      <td>15</td>\n",
              "    </tr>\n",
              "    <tr>\n",
              "      <th>4</th>\n",
              "      <td>Anderson, Carol</td>\n",
              "      <td>10069</td>\n",
              "      <td>0</td>\n",
              "      <td>2</td>\n",
              "      <td>0</td>\n",
              "      <td>5</td>\n",
              "      <td>5</td>\n",
              "      <td>3</td>\n",
              "      <td>0</td>\n",
              "      <td>50825</td>\n",
              "      <td>...</td>\n",
              "      <td>Webster Butler</td>\n",
              "      <td>39.0</td>\n",
              "      <td>Google Search</td>\n",
              "      <td>Fully Meets</td>\n",
              "      <td>5.00</td>\n",
              "      <td>4</td>\n",
              "      <td>0</td>\n",
              "      <td>2/1/2016</td>\n",
              "      <td>0</td>\n",
              "      <td>2</td>\n",
              "    </tr>\n",
              "  </tbody>\n",
              "</table>\n",
              "<p>5 rows × 36 columns</p>\n",
              "</div>"
            ],
            "text/plain": [
              "              Employee_Name  EmpID  MarriedID  MaritalStatusID  GenderID  \\\n",
              "0       Adinolfi, Wilson  K  10026          0                0         1   \n",
              "1  Ait Sidi, Karthikeyan     10084          1                1         1   \n",
              "2         Akinkuolie, Sarah  10196          1                1         0   \n",
              "3              Alagbe,Trina  10088          1                1         0   \n",
              "4          Anderson, Carol   10069          0                2         0   \n",
              "\n",
              "   EmpStatusID  DeptID  PerfScoreID  FromDiversityJobFairID  Salary  ...  \\\n",
              "0            1       5            4                       0   62506  ...   \n",
              "1            5       3            3                       0  104437  ...   \n",
              "2            5       5            3                       0   64955  ...   \n",
              "3            1       5            3                       0   64991  ...   \n",
              "4            5       5            3                       0   50825  ...   \n",
              "\n",
              "      ManagerName  ManagerID RecruitmentSource PerformanceScore  \\\n",
              "0  Michael Albert       22.0          LinkedIn          Exceeds   \n",
              "1      Simon Roup        4.0            Indeed      Fully Meets   \n",
              "2  Kissy Sullivan       20.0          LinkedIn      Fully Meets   \n",
              "3    Elijiah Gray       16.0            Indeed      Fully Meets   \n",
              "4  Webster Butler       39.0     Google Search      Fully Meets   \n",
              "\n",
              "   EngagementSurvey EmpSatisfaction SpecialProjectsCount  \\\n",
              "0              4.60               5                    0   \n",
              "1              4.96               3                    6   \n",
              "2              3.02               3                    0   \n",
              "3              4.84               5                    0   \n",
              "4              5.00               4                    0   \n",
              "\n",
              "  LastPerformanceReview_Date DaysLateLast30 Absences  \n",
              "0                  1/17/2019              0        1  \n",
              "1                  2/24/2016              0       17  \n",
              "2                  5/15/2012              0        3  \n",
              "3                   1/3/2019              0       15  \n",
              "4                   2/1/2016              0        2  \n",
              "\n",
              "[5 rows x 36 columns]"
            ]
          },
          "execution_count": 18,
          "metadata": {},
          "output_type": "execute_result"
        }
      ],
      "source": [
        "import pandas as pd\n",
        "dt = pd.read_csv('HRDataset_v14.csv') \n",
        "dt.head()"
      ]
    },
    {
      "cell_type": "code",
      "execution_count": null,
      "metadata": {},
      "outputs": [
        {
          "data": {
            "text/plain": [
              "Index(['Employee_Name', 'EmpID', 'MarriedID', 'MaritalStatusID', 'GenderID',\n",
              "       'EmpStatusID', 'DeptID', 'PerfScoreID', 'FromDiversityJobFairID',\n",
              "       'Salary', 'Termd', 'PositionID', 'Position', 'State', 'Zip', 'DOB',\n",
              "       'Sex', 'MaritalDesc', 'CitizenDesc', 'HispanicLatino', 'RaceDesc',\n",
              "       'DateofHire', 'DateofTermination', 'TermReason', 'EmploymentStatus',\n",
              "       'Department', 'ManagerName', 'ManagerID', 'RecruitmentSource',\n",
              "       'PerformanceScore', 'EngagementSurvey', 'EmpSatisfaction',\n",
              "       'SpecialProjectsCount', 'LastPerformanceReview_Date', 'DaysLateLast30',\n",
              "       'Absences'],\n",
              "      dtype='object')"
            ]
          },
          "execution_count": 19,
          "metadata": {},
          "output_type": "execute_result"
        }
      ],
      "source": [
        "dt.columns"
      ]
    },
    {
      "cell_type": "code",
      "execution_count": null,
      "metadata": {},
      "outputs": [
        {
          "data": {
            "text/plain": [
              "{'Admin Offices',\n",
              " 'Executive Office',\n",
              " 'IT/IS',\n",
              " 'Production       ',\n",
              " 'Sales',\n",
              " 'Software Engineering'}"
            ]
          },
          "execution_count": 20,
          "metadata": {},
          "output_type": "execute_result"
        }
      ],
      "source": [
        "set(dt['Department'])"
      ]
    },
    {
      "cell_type": "code",
      "execution_count": null,
      "metadata": {
        "colab": {
          "base_uri": "https://localhost:8080/",
          "height": 465
        },
        "id": "GKpM9TF6UuK2",
        "outputId": "0d3ca0a3-eb09-4023-dd0e-a602d80805f1"
      },
      "outputs": [
        {
          "name": "stdout",
          "output_type": "stream",
          "text": [
            "Executive Office = 0\n",
            "Admin Offices = 56447\n",
            "Production        = 125454\n",
            "Sales = 124125\n",
            "IT/IS = 170272\n",
            "Software Engineering = 31295\n"
          ]
        }
      ],
      "source": [
        "# Range to get Rough Idea about Spread of Data\n",
        "depts = list(set(dt['Department']))\n",
        "def range_dt(column):\n",
        "    return max(column) - min(column)\n",
        "\n",
        "for dept in depts:\n",
        "    salaries = dt[dt['Department'] == dept]['Salary']\n",
        "    print(f'{dept} = {range_dt(salaries)}')"
      ]
    },
    {
      "cell_type": "code",
      "execution_count": null,
      "metadata": {},
      "outputs": [
        {
          "name": "stdout",
          "output_type": "stream",
          "text": [
            "Executive Office = 0.0\n",
            "Admin Offices = 418815713.65432096\n",
            "Production        = 129852796.58286211\n",
            "Sales = 437876293.73985434\n",
            "IT/IS = 1080820774.9903998\n",
            "Software Engineering = 83198210.24793388\n"
          ]
        }
      ],
      "source": [
        "# Spread of Data with respect to Mean\n",
        "def variance(column):\n",
        "    mean = sum(column)/len(column)\n",
        "    variance_val = sum((val-mean)**2 for val in column)/len(column)\n",
        "    return variance_val\n",
        "\n",
        "for dept in depts:\n",
        "    salaries = dt[dt['Department'] == dept]['Salary']\n",
        "    print(f'{dept} = {variance(salaries)}')"
      ]
    },
    {
      "cell_type": "code",
      "execution_count": null,
      "metadata": {},
      "outputs": [
        {
          "name": "stdout",
          "output_type": "stream",
          "text": [
            "Executive Office = 0.0\n",
            "Admin Offices = 20464.987506820544\n",
            "Production        = 11395.297125694535\n",
            "Sales = 20925.49387087087\n",
            "IT/IS = 32875.83877242373\n",
            "Software Engineering = 9121.305292990355\n"
          ]
        }
      ],
      "source": [
        "# Spread of Salaries tightly near to Mean.\n",
        "def std(column):\n",
        "    return variance(column)**0.5\n",
        "    \n",
        "for dept in depts:\n",
        "    salaries = dt[dt['Department'] == dept]['Salary']\n",
        "    print(f'{dept} = {std(salaries)}')"
      ]
    },
    {
      "cell_type": "markdown",
      "metadata": {},
      "source": []
    },
    {
      "cell_type": "markdown",
      "metadata": {},
      "source": [
        "Probability Mass Fuction"
      ]
    },
    {
      "cell_type": "code",
      "execution_count": null,
      "metadata": {
        "id": "JwwPRwn7UuSI"
      },
      "outputs": [
        {
          "data": {
            "text/html": [
              "<div>\n",
              "<style scoped>\n",
              "    .dataframe tbody tr th:only-of-type {\n",
              "        vertical-align: middle;\n",
              "    }\n",
              "\n",
              "    .dataframe tbody tr th {\n",
              "        vertical-align: top;\n",
              "    }\n",
              "\n",
              "    .dataframe thead th {\n",
              "        text-align: right;\n",
              "    }\n",
              "</style>\n",
              "<table border=\"1\" class=\"dataframe\">\n",
              "  <thead>\n",
              "    <tr style=\"text-align: right;\">\n",
              "      <th></th>\n",
              "      <th>Employee_Name</th>\n",
              "      <th>EmpID</th>\n",
              "      <th>MarriedID</th>\n",
              "      <th>MaritalStatusID</th>\n",
              "      <th>GenderID</th>\n",
              "      <th>EmpStatusID</th>\n",
              "      <th>DeptID</th>\n",
              "      <th>PerfScoreID</th>\n",
              "      <th>FromDiversityJobFairID</th>\n",
              "      <th>Salary</th>\n",
              "      <th>...</th>\n",
              "      <th>ManagerName</th>\n",
              "      <th>ManagerID</th>\n",
              "      <th>RecruitmentSource</th>\n",
              "      <th>PerformanceScore</th>\n",
              "      <th>EngagementSurvey</th>\n",
              "      <th>EmpSatisfaction</th>\n",
              "      <th>SpecialProjectsCount</th>\n",
              "      <th>LastPerformanceReview_Date</th>\n",
              "      <th>DaysLateLast30</th>\n",
              "      <th>Absences</th>\n",
              "    </tr>\n",
              "  </thead>\n",
              "  <tbody>\n",
              "    <tr>\n",
              "      <th>0</th>\n",
              "      <td>Adinolfi, Wilson  K</td>\n",
              "      <td>10026</td>\n",
              "      <td>0</td>\n",
              "      <td>0</td>\n",
              "      <td>1</td>\n",
              "      <td>1</td>\n",
              "      <td>5</td>\n",
              "      <td>4</td>\n",
              "      <td>0</td>\n",
              "      <td>62506</td>\n",
              "      <td>...</td>\n",
              "      <td>Michael Albert</td>\n",
              "      <td>22.0</td>\n",
              "      <td>LinkedIn</td>\n",
              "      <td>Exceeds</td>\n",
              "      <td>4.60</td>\n",
              "      <td>5</td>\n",
              "      <td>0</td>\n",
              "      <td>1/17/2019</td>\n",
              "      <td>0</td>\n",
              "      <td>1</td>\n",
              "    </tr>\n",
              "    <tr>\n",
              "      <th>1</th>\n",
              "      <td>Ait Sidi, Karthikeyan</td>\n",
              "      <td>10084</td>\n",
              "      <td>1</td>\n",
              "      <td>1</td>\n",
              "      <td>1</td>\n",
              "      <td>5</td>\n",
              "      <td>3</td>\n",
              "      <td>3</td>\n",
              "      <td>0</td>\n",
              "      <td>104437</td>\n",
              "      <td>...</td>\n",
              "      <td>Simon Roup</td>\n",
              "      <td>4.0</td>\n",
              "      <td>Indeed</td>\n",
              "      <td>Fully Meets</td>\n",
              "      <td>4.96</td>\n",
              "      <td>3</td>\n",
              "      <td>6</td>\n",
              "      <td>2/24/2016</td>\n",
              "      <td>0</td>\n",
              "      <td>17</td>\n",
              "    </tr>\n",
              "    <tr>\n",
              "      <th>2</th>\n",
              "      <td>Akinkuolie, Sarah</td>\n",
              "      <td>10196</td>\n",
              "      <td>1</td>\n",
              "      <td>1</td>\n",
              "      <td>0</td>\n",
              "      <td>5</td>\n",
              "      <td>5</td>\n",
              "      <td>3</td>\n",
              "      <td>0</td>\n",
              "      <td>64955</td>\n",
              "      <td>...</td>\n",
              "      <td>Kissy Sullivan</td>\n",
              "      <td>20.0</td>\n",
              "      <td>LinkedIn</td>\n",
              "      <td>Fully Meets</td>\n",
              "      <td>3.02</td>\n",
              "      <td>3</td>\n",
              "      <td>0</td>\n",
              "      <td>5/15/2012</td>\n",
              "      <td>0</td>\n",
              "      <td>3</td>\n",
              "    </tr>\n",
              "    <tr>\n",
              "      <th>3</th>\n",
              "      <td>Alagbe,Trina</td>\n",
              "      <td>10088</td>\n",
              "      <td>1</td>\n",
              "      <td>1</td>\n",
              "      <td>0</td>\n",
              "      <td>1</td>\n",
              "      <td>5</td>\n",
              "      <td>3</td>\n",
              "      <td>0</td>\n",
              "      <td>64991</td>\n",
              "      <td>...</td>\n",
              "      <td>Elijiah Gray</td>\n",
              "      <td>16.0</td>\n",
              "      <td>Indeed</td>\n",
              "      <td>Fully Meets</td>\n",
              "      <td>4.84</td>\n",
              "      <td>5</td>\n",
              "      <td>0</td>\n",
              "      <td>1/3/2019</td>\n",
              "      <td>0</td>\n",
              "      <td>15</td>\n",
              "    </tr>\n",
              "    <tr>\n",
              "      <th>4</th>\n",
              "      <td>Anderson, Carol</td>\n",
              "      <td>10069</td>\n",
              "      <td>0</td>\n",
              "      <td>2</td>\n",
              "      <td>0</td>\n",
              "      <td>5</td>\n",
              "      <td>5</td>\n",
              "      <td>3</td>\n",
              "      <td>0</td>\n",
              "      <td>50825</td>\n",
              "      <td>...</td>\n",
              "      <td>Webster Butler</td>\n",
              "      <td>39.0</td>\n",
              "      <td>Google Search</td>\n",
              "      <td>Fully Meets</td>\n",
              "      <td>5.00</td>\n",
              "      <td>4</td>\n",
              "      <td>0</td>\n",
              "      <td>2/1/2016</td>\n",
              "      <td>0</td>\n",
              "      <td>2</td>\n",
              "    </tr>\n",
              "  </tbody>\n",
              "</table>\n",
              "<p>5 rows × 36 columns</p>\n",
              "</div>"
            ],
            "text/plain": [
              "              Employee_Name  EmpID  MarriedID  MaritalStatusID  GenderID  \\\n",
              "0       Adinolfi, Wilson  K  10026          0                0         1   \n",
              "1  Ait Sidi, Karthikeyan     10084          1                1         1   \n",
              "2         Akinkuolie, Sarah  10196          1                1         0   \n",
              "3              Alagbe,Trina  10088          1                1         0   \n",
              "4          Anderson, Carol   10069          0                2         0   \n",
              "\n",
              "   EmpStatusID  DeptID  PerfScoreID  FromDiversityJobFairID  Salary  ...  \\\n",
              "0            1       5            4                       0   62506  ...   \n",
              "1            5       3            3                       0  104437  ...   \n",
              "2            5       5            3                       0   64955  ...   \n",
              "3            1       5            3                       0   64991  ...   \n",
              "4            5       5            3                       0   50825  ...   \n",
              "\n",
              "      ManagerName  ManagerID RecruitmentSource PerformanceScore  \\\n",
              "0  Michael Albert       22.0          LinkedIn          Exceeds   \n",
              "1      Simon Roup        4.0            Indeed      Fully Meets   \n",
              "2  Kissy Sullivan       20.0          LinkedIn      Fully Meets   \n",
              "3    Elijiah Gray       16.0            Indeed      Fully Meets   \n",
              "4  Webster Butler       39.0     Google Search      Fully Meets   \n",
              "\n",
              "   EngagementSurvey EmpSatisfaction SpecialProjectsCount  \\\n",
              "0              4.60               5                    0   \n",
              "1              4.96               3                    6   \n",
              "2              3.02               3                    0   \n",
              "3              4.84               5                    0   \n",
              "4              5.00               4                    0   \n",
              "\n",
              "  LastPerformanceReview_Date DaysLateLast30 Absences  \n",
              "0                  1/17/2019              0        1  \n",
              "1                  2/24/2016              0       17  \n",
              "2                  5/15/2012              0        3  \n",
              "3                   1/3/2019              0       15  \n",
              "4                   2/1/2016              0        2  \n",
              "\n",
              "[5 rows x 36 columns]"
            ]
          },
          "execution_count": 45,
          "metadata": {},
          "output_type": "execute_result"
        }
      ],
      "source": [
        "import pandas as pd\n",
        "dt = pd.read_csv(r'HRDataset_v14.csv')\n",
        "dt.head()"
      ]
    },
    {
      "cell_type": "code",
      "execution_count": null,
      "metadata": {},
      "outputs": [
        {
          "data": {
            "text/plain": [
              "Index(['Employee_Name', 'EmpID', 'MarriedID', 'MaritalStatusID', 'GenderID',\n",
              "       'EmpStatusID', 'DeptID', 'PerfScoreID', 'FromDiversityJobFairID',\n",
              "       'Salary', 'Termd', 'PositionID', 'Position', 'State', 'Zip', 'DOB',\n",
              "       'Sex', 'MaritalDesc', 'CitizenDesc', 'HispanicLatino', 'RaceDesc',\n",
              "       'DateofHire', 'DateofTermination', 'TermReason', 'EmploymentStatus',\n",
              "       'Department', 'ManagerName', 'ManagerID', 'RecruitmentSource',\n",
              "       'PerformanceScore', 'EngagementSurvey', 'EmpSatisfaction',\n",
              "       'SpecialProjectsCount', 'LastPerformanceReview_Date', 'DaysLateLast30',\n",
              "       'Absences'],\n",
              "      dtype='object')"
            ]
          },
          "execution_count": 46,
          "metadata": {},
          "output_type": "execute_result"
        }
      ],
      "source": [
        "dt.columns"
      ]
    },
    {
      "cell_type": "code",
      "execution_count": null,
      "metadata": {},
      "outputs": [
        {
          "data": {
            "text/plain": [
              "{'Other': 0.006430868167202572,\n",
              " 'On-line Web application': 0.003215434083601286,\n",
              " 'Diversity Job Fair': 0.0932475884244373,\n",
              " 'Employee Referral': 0.09967845659163987,\n",
              " 'Website': 0.04180064308681672,\n",
              " 'Indeed': 0.2797427652733119,\n",
              " 'Google Search': 0.15755627009646303,\n",
              " 'CareerBuilder': 0.07395498392282958,\n",
              " 'LinkedIn': 0.24437299035369775}"
            ]
          },
          "execution_count": 109,
          "metadata": {},
          "output_type": "execute_result"
        }
      ],
      "source": [
        "# Calculate PMF for a Particular Row.\n",
        "def pmf_for_val(dt, column, val):\n",
        "    return (len(dt[column == val])/len(column))\n",
        "\n",
        "def pmf(dt, attribute):\n",
        "    x_vals = list(set(attribute))\n",
        "    pmf_vals = {}\n",
        "    for x in x_vals:\n",
        "        pmf_vals[x] = pmf_for_val(dt, attribute, x)\n",
        "    \n",
        "    return pmf_vals\n",
        "pmf_vals = pmf(dt, dt[\"RecruitmentSource\"])\n",
        "pmf_vals"
      ]
    },
    {
      "cell_type": "code",
      "execution_count": null,
      "metadata": {},
      "outputs": [
        {
          "data": {
            "text/plain": [
              "([0, 1, 2, 3, 4, 5, 6, 7, 8],\n",
              " [Text(0, 0, 'Other'),\n",
              "  Text(1, 0, 'On-line Web application'),\n",
              "  Text(2, 0, 'Diversity Job Fair'),\n",
              "  Text(3, 0, 'Employee Referral'),\n",
              "  Text(4, 0, 'Website'),\n",
              "  Text(5, 0, 'Indeed'),\n",
              "  Text(6, 0, 'Google Search'),\n",
              "  Text(7, 0, 'CareerBuilder'),\n",
              "  Text(8, 0, 'LinkedIn')])"
            ]
          },
          "execution_count": 137,
          "metadata": {},
          "output_type": "execute_result"
        },
        {
          "data": {
            "image/png": "[encoded data removed]",
            "text/plain": [
              "<Figure size 1200x500 with 1 Axes>"
            ]
          },
          "metadata": {},
          "output_type": "display_data"
        }
      ],
      "source": [
        "import matplotlib.pyplot as plt\n",
        "\n",
        "plt.figure(figsize=(12,5))\n",
        "plt.bar(pmf_vals.keys(), pmf_vals.values(), alpha = 1)\n",
        "plt.title('PMF of Recruitment Source')\n",
        "plt.xlabel('Recruitment Sources')\n",
        "plt.ylabel('PMF Values')\n",
        "plt.xticks(rotation=45)"
      ]
    },
    {
      "cell_type": "code",
      "execution_count": null,
      "metadata": {},
      "outputs": [],
      "source": []
    },
    {
      "cell_type": "markdown",
      "metadata": {},
      "source": [
        "Probility Density Function"
      ]
    },
    {
      "cell_type": "code",
      "execution_count": null,
      "metadata": {
        "id": "cZbuH0_9BJkS"
      },
      "outputs": [
        {
          "data": {
            "image/png": "[encoded data removed]",
            "text/plain": [
              "<Figure size 800x300 with 1 Axes>"
            ]
          },
          "metadata": {},
          "output_type": "display_data"
        }
      ],
      "source": [
        "# Calculate PDF for Column Salary from Same Dataset by Using Gaussian KDE.\n",
        "import numpy as np\n",
        "import matplotlib.pyplot as plt\n",
        "from scipy.stats import gaussian_kde\n",
        "\n",
        "salary = data['Salary']\n",
        "\n",
        "min_value =  salary.min()\n",
        "max_value = salary.max()\n",
        "\n",
        "range_values = np.linspace(min_value, max_value, 1000)  \n",
        "\n",
        "kde = gaussian_kde(salary)\n",
        "kde_values = kde(range_values)\n",
        "\n",
        "plt.figure(figsize=(8,3))\n",
        "plt.plot(range_values, kde_values)\n",
        "plt.xlabel('Salary')\n",
        "plt.ylabel('Density')\n",
        "plt.title('Kernel Density Estimate (KDE) for Salary')\n",
        "plt.show()"
      ]
    },
    {
      "cell_type": "code",
      "execution_count": null,
      "metadata": {},
      "outputs": [
        {
          "name": "stdout",
          "output_type": "stream",
          "text": [
            "CDF between 250000 and 100000 = 0.10907600619111424\n"
          ]
        }
      ],
      "source": [
        "# Calculate Probability in between Range of Salaries.\n",
        "\n",
        "from scipy.stats import norm\n",
        "\n",
        "def z_val(num, mean, std):\n",
        "    return (num - mean)/std\n",
        "\n",
        "def t_val(num1, num2, column):\n",
        "    z_val1 = z_val(num1, column.mean(), column.std())\n",
        "    z_val2 = z_val(num2, column.mean(), column.std())\n",
        "    t_val1 = norm.cdf(z_val1, 0, 1)\n",
        "    t_val2 = norm.cdf(z_val2, 0, 1)\n",
        "    return t_val2 - t_val1\n",
        "\n",
        "x1 = 100000\n",
        "x2 = 250000\n",
        "\n",
        "print(f\"CDF between {x2} and {x1} = {t_val(x1, x2, salary)}\")"
      ]
    }
  ],
  "metadata": {
    "colab": {
      "provenance": []
    },
    "kernelspec": {
      "display_name": "Python 3",
      "language": "python",
      "name": "python3"
    },
    "language_info": {
      "codemirror_mode": {
        "name": "ipython",
        "version": 3
      },
      "file_extension": ".py",
      "mimetype": "text/x-python",
      "name": "python",
      "nbconvert_exporter": "python",
      "pygments_lexer": "ipython3",
      "version": "3.12.1"
    }
  },
  "nbformat": 4,
  "nbformat_minor": 0
}
